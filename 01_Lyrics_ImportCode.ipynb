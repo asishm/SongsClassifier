{
 "cells": [
  {
   "cell_type": "code",
   "execution_count": null,
   "metadata": {
    "collapsed": false
   },
   "outputs": [],
   "source": [
    "#######################################################\n",
    "# Created-Date: 04/13/2016                            #\n",
    "# Last Modified: 04/27/2016                           #\n",
    "# Created by: Himanshu Bharara , Asish Mahapatra      #\n",
    "#                                                     #\n",
    "# Objective: Calculate the song lyrics for each year  #\n",
    "# and store in a text document in the directory       #\n",
    "#                                                     #\n",
    "# Instruction before running:                         #\n",
    "# 1. Please change the file path of directory         # \n",
    "# 2. change ranges based on the number of lyrics      # \n",
    "#    you have in the directory                        #  \n",
    "# 3. Please follow similar nomenclature as used in the# \n",
    "#    code                                             #\n",
    "# 4. Please use the array list of only the years      #\n",
    "#    under consideration and comment the rest         #\n",
    "#######################################################\n",
    "\n",
    "import pandas as pd\n",
    "from PyLyrics import *\n",
    "\n",
    "## Code block to create lyrics file for each appropriate year by storing lyrics in txt file in the year directory\n",
    "for j in range(0,1):\n",
    "    #year = ['2013','2014','2015']\n",
    "    #year = ['2006','2007','2008','2009','2010','2011','2012','2013','2014','2015']\n",
    "    year=['2040']\n",
    "    #year=['test']\n",
    "    dHome = \"/Users/HimanshuBharara/Documents/CU-Sem2/IEORE4571/Projects/Lyrics/\"+year[j]+\"/\"\n",
    "    print(dHome)\n",
    "    dataH = pd.read_csv('/Users/HimanshuBharara/Documents/CU-Sem2/IEORE4571/Projects/Datasets/songs'+year[j]+\".csv\")\n",
    "    #dataH = pd.read_csv('/Users/HimanshuBharara/Documents/CU-Sem2/IEORE4571/Projects/Datasets/'+year[j]+\".csv\")\n",
    "\n",
    "    for i in range(0,100):\n",
    "    #print(dataH['artists'].iloc[i],dataH['songs'].iloc[i])\n",
    "    #print(PyLyrics.getLyrics(data_frame['artists'].iloc[i],data_frame['songs'].iloc[i]))    \n",
    "        try:\n",
    "        #lyrics_array.append(str(PyLyrics.getLyrics(dataH['artists'].iloc[i],dataH['songs'].iloc[i])))\n",
    "            name=dHome+str(i)+\".\"+\"txt\"\n",
    "            file=open(name,'a')\n",
    "            file.write(str(PyLyrics.getLyrics(dataH['artists'].iloc[i],dataH['songs'].iloc[i])))\n",
    "            file.close()\n",
    "        except ValueError:\n",
    "            print(i)\n",
    "            print(dataH['songs'].iloc[i])\n",
    "            print(dataH['artists'].iloc[i])"
   ]
  }
 ],
 "metadata": {
  "kernelspec": {
   "display_name": "Python 3",
   "language": "python",
   "name": "python3"
  },
  "language_info": {
   "codemirror_mode": {
    "name": "ipython",
    "version": 3
   },
   "file_extension": ".py",
   "mimetype": "text/x-python",
   "name": "python",
   "nbconvert_exporter": "python",
   "pygments_lexer": "ipython3",
   "version": "3.5.1"
  }
 },
 "nbformat": 4,
 "nbformat_minor": 0
}
