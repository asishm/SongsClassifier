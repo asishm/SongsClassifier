{
 "cells": [
  {
   "cell_type": "code",
   "execution_count": 42,
   "metadata": {
    "collapsed": false
   },
   "outputs": [
    {
     "name": "stdout",
     "output_type": "stream",
     "text": [
      "(1000, 23)\n",
      "(909, 23)\n"
     ]
    },
    {
     "name": "stderr",
     "output_type": "stream",
     "text": [
      "//anaconda/lib/python3.5/site-packages/ipykernel/__main__.py:57: FutureWarning: sort(columns=....) is deprecated, use sort_values(by=.....)\n"
     ]
    }
   ],
   "source": [
    "#######################################################\n",
    "# Created-Date: 04/14/2016                            #\n",
    "# Last Modified: 04/27/2016                           #\n",
    "# Created by: Himanshu Bharara                        #\n",
    "#                                                     #\n",
    "# Objective: Build an SVM model using training and    #\n",
    "#            test data for each of the scenarios      #\n",
    "#            on the principal components from PCA     #\n",
    "#                                                     #\n",
    "# Instruction before running:                         #\n",
    "# 1. Please change the file path of directory         # \n",
    "# 2. change ranges based on the number of lyrics      # \n",
    "#    you have in the directory                        #  \n",
    "# 3. Please follow similar nomenclature as used in the# \n",
    "#    code                                             #\n",
    "# 4. Please use the array list of only the years      #\n",
    "#    under consideration and comment the rest         #\n",
    "# 5. Please use the scenario definition to assign 0's #\n",
    "#    to the relevant subset of the super set          #\n",
    "#######################################################\n",
    "\n",
    "\n",
    "\n",
    "\n",
    "import pandas as pd\n",
    "import matplotlib.pyplot as plt\n",
    "import pandas.io.data\n",
    "from statsmodels import regression\n",
    "import math\n",
    "import statsmodels.api as sm\n",
    "import datetime\n",
    "import numpy as np\n",
    "\n",
    "dhome = \"/Users/HimanshuBharara/Documents/CU-Sem2/IEORE4571/Projects/Datasets/songs\"\n",
    "year = ['2006','2007','2008','2009','2010','2011','2012','2013','2014','2015']\n",
    "#year = ['2030','2020']\n",
    "## Adding 1's to 2020 Dataset\n",
    "filepath = dhome+year[0]+\".csv\"\n",
    "df=pd.read_csv(filepath)\n",
    "grades = []\n",
    "for row in df['ranks']:\n",
    "    if  row <= 20:\n",
    "        grades.append(1)\n",
    "    else:\n",
    "        grades.append(0)\n",
    "df['grades'] = grades\n",
    "\n",
    "\n",
    "## Adding 0's to 2030 Dataset\n",
    "#filepath = dhome+year[11]+\".csv\"\n",
    "#df1=pd.read_csv(filepath)\n",
    "#grades = []\n",
    "#for row in df1['ranks']:\n",
    "#    if  row <= 103:\n",
    "#        grades.append(0)\n",
    "#    else:\n",
    "#        grades.append(1)\n",
    "#df1['grades'] = grades\n",
    "\n",
    "#df = df.append(df1)\n",
    "\n",
    "\n",
    "\n",
    "## Adding 0's to Remaining Dataset\n",
    "for i in range(1,10):\n",
    "    filepath = dhome+year[i]+\".csv\"\n",
    "    mds = pd.read_csv(filepath,header=0)\n",
    "    grades = []\n",
    "    for row in mds['ranks']:\n",
    "        if  row <= 20:\n",
    "            grades.append(1)\n",
    "        else:\n",
    "            grades.append(0)\n",
    "    mds['grades'] = grades\n",
    "    df = df.append(mds)\n",
    "\n",
    "print(df.shape)\n",
    "#print(list(df.columns.values))\n",
    "\n",
    "## Drop Duplicates\n",
    "od = df.sort(['songs','artists'], ascending=[1,0])\n",
    "ot=od.drop_duplicates(['songs','artists'], keep='first')\n",
    "print(ot.shape)\n",
    "ot.pop('ranks')\n",
    "ot.pop('ids')\n",
    "ot.pop('artists')\n",
    "ot.pop('songs')\n",
    "#ot['grades'].value_counts()\n",
    "pd.DataFrame(ot.describe()).to_csv(\"/Users/HimanshuBharara/Documents/CU-Sem2/IEORE4571/Projects/SummaryStatistics.csv\")"
   ]
  },
  {
   "cell_type": "code",
   "execution_count": 43,
   "metadata": {
    "collapsed": false
   },
   "outputs": [
    {
     "name": "stdout",
     "output_type": "stream",
     "text": [
      "(681, 19)\n",
      "(228, 19)\n",
      "['acousticness', 'danceability', 'duration', 'energy', 'key', 'liveness', 'loudness', 'mode', 'speechiness', 'tempo', 'time_signature', 'valence', 'Anger', 'Surprise', 'Joy', 'Sadness', 'Love', 'Fear', 'grades']\n"
     ]
    }
   ],
   "source": [
    "# Split the model into training and test set\n",
    "from sklearn.cross_validation import train_test_split\n",
    "df_train,df_test = train_test_split(ot,random_state=1)\n",
    "\n",
    "print(df_train.shape)\n",
    "print(df_test.shape)\n",
    "print(list(df_train.columns.values))"
   ]
  },
  {
   "cell_type": "code",
   "execution_count": null,
   "metadata": {
    "collapsed": true
   },
   "outputs": [],
   "source": [
    "## This code cretes a plot of 15X15 plots of all the features in the dataset to develop the intuition for running PCA \n",
    "## and feature selection\n",
    "\n",
    "import seaborn as sms\n",
    "acoustics_var = ['acousticness','danceability','duration','energy','key','liveness','loudness','mode','speechiness','tempo',\n",
    "        'time_signature','valence','Anger','Surprise','Joy','Sadness','Love','Fear']\n",
    "lyrics_var = ['acousticness','danceability','duration','energy','key','liveness','loudness','mode','speechiness','tempo',\n",
    "        'time_signature','valence','Anger','Surprise','Joy','Sadness','Love','Fear']\n",
    "\n",
    "plotdir = \"/Users/HimanshuBharara/Documents/CU-Sem2/IEORE4571/Projects/PCA/Plots/Scenario5/\"\n",
    "for var1 in acoustics_var:\n",
    "    for var2 in lyrics_var:\n",
    "        if var1 != var2:\n",
    "            sms_plot=sms.pairplot(df_train,x_vars=var2,\n",
    "                    y_vars=var1,\n",
    "                    size=7,aspect=0.7,\n",
    "                    hue=\"grades\")\n",
    "            sms_plot.savefig(plotdir+var1+\"_\"+var2+\".png\")"
   ]
  },
  {
   "cell_type": "code",
   "execution_count": 45,
   "metadata": {
    "collapsed": false
   },
   "outputs": [
    {
     "name": "stdout",
     "output_type": "stream",
     "text": [
      "Everything ok!\n",
      "Eigenvalues in descending order:\n",
      "5.00307771837\n",
      "2.2371036898\n",
      "1.60433663006\n",
      "1.31957773457\n",
      "1.15050823704\n",
      "1.08293851301\n",
      "0.936576907593\n",
      "0.826313167432\n",
      "0.744268426951\n",
      "0.694532469933\n",
      "0.660731564565\n",
      "0.518578551038\n",
      "0.185992354619\n",
      "0.0274953159658\n",
      "0.00499516309852\n",
      "0.00239362273378\n",
      "0.000579933217778\n"
     ]
    },
    {
     "data": {
      "image/png": "[encoded data removed]",
      "text/plain": [
       "<matplotlib.figure.Figure at 0x1032ca320>"
      ]
     },
     "metadata": {},
     "output_type": "display_data"
    }
   ],
   "source": [
    "\n",
    "\n",
    "from sklearn.preprocessing import StandardScaler\n",
    "import numpy as np\n",
    "\n",
    "X = df_train.ix[:,0:17].values\n",
    "y = df_train.ix[:,18].values\n",
    "\n",
    "# Standardising\n",
    "X_std = StandardScaler().fit_transform(X)\n",
    "mean_vec = np.mean(X_std, axis=0)\n",
    "cov_mat = (X_std - mean_vec).T.dot((X_std - mean_vec)) / (X_std.shape[0]-1)\n",
    "#print('Covariance matrix \\n%s' %cov_mat)\n",
    "\n",
    "# Eigen Decomposition Based on Covariance Matrix\n",
    "cov_mat = np.cov(X_std.T)\n",
    "\n",
    "eig_vals, eig_vecs = np.linalg.eig(cov_mat)\n",
    "\n",
    "#print('Eigenvectors \\n%s' %eig_vecs)\n",
    "#print('\\nEigenvalues \\n%s' %eig_vals)\n",
    "\n",
    "\n",
    "# Eigen Decomposition Based on Correlation Matrix\n",
    "cor_mat1 = np.corrcoef(X_std.T)\n",
    "\n",
    "eig_vals, eig_vecs = np.linalg.eig(cor_mat1)\n",
    "\n",
    "#print('Eigenvectors \\n%s' %eig_vecs)\n",
    "#print('\\nEigenvalues \\n%s' %eig_vals)\n",
    "\n",
    "#Eigendecomposition of the raw data based on the correlation matrix\n",
    "cor_mat2 = np.corrcoef(X.T)\n",
    "\n",
    "eig_vals, eig_vecs = np.linalg.eig(cor_mat2)\n",
    "\n",
    "#print('Eigenvectors \\n%s' %eig_vecs)\n",
    "#print('\\nEigenvalues \\n%s' %eig_vals)\n",
    "\n",
    "\n",
    "# Testing the Length of Vectors Assuming All Vectors are of Length 1\n",
    "for ev in eig_vecs:\n",
    "    np.testing.assert_array_almost_equal(1.0, np.linalg.norm(ev))\n",
    "print('Everything ok!')\n",
    "\n",
    "\n",
    "\n",
    "\n",
    "# In order to decide which eigenvector(s) can dropped without losing too much \n",
    "#information for the construction of lower-dimensional subspace, we need to inspect \n",
    "#the corresponding eigenvalues: The eigenvectors with the lowest eigenvalues bear the least information about \n",
    "#the distribution of the data; those are the ones can be dropped.\n",
    "\n",
    "#In order to do so, the common approach is to rank the eigenvalues from highest to lowest in order \n",
    "#choose the top kk eigenvectors.\n",
    "\n",
    "\n",
    "# Make a list of (eigenvalue, eigenvector) tuples\n",
    "eig_pairs = [(np.abs(eig_vals[i]), eig_vecs[:,i]) for i in range(len(eig_vals))]\n",
    "\n",
    "# Sort the (eigenvalue, eigenvector) tuples from high to low\n",
    "eig_pairs.sort()\n",
    "eig_pairs.reverse()\n",
    "\n",
    "# Visually confirm that the list is correctly sorted by decreasing eigenvalues\n",
    "print('Eigenvalues in descending order:')\n",
    "for i in eig_pairs:\n",
    "    print(i[0])\n",
    "\n",
    "\n",
    "    \n",
    "#After sorting the eigenpairs, the next question is “how many principal components are \n",
    "#we going to choose for our new feature subspace?” \n",
    "#A useful measure is the so-called “explained variance,” which can be calculated from the eigenvalues. \n",
    "#The explained variance tells us how much information (variance) can be attributed to each of the principal components.\n",
    "\n",
    "import seaborn as sms\n",
    "%matplotlib inline\n",
    "tot = sum(eig_vals)\n",
    "var_exp = [(i / tot)*100 for i in sorted(eig_vals, reverse=True)]\n",
    "cum_var_exp = np.cumsum(var_exp)\n",
    "plotdir = \"/Users/HimanshuBharara/Documents/CU-Sem2/IEORE4571/Projects/PCA/Plots/Scenario5\"\n",
    "with plt.style.context('seaborn-whitegrid'):\n",
    "    plt.figure(figsize=(6, 4))\n",
    "    plt.bar(range(17),var_exp, alpha=0.5, align='center',\n",
    "            label='individual explained variance')\n",
    "    plt.step(range(17), cum_var_exp, where='mid',\n",
    "             label='cumulative explained variance')\n",
    "    plt.ylabel('Explained variance ratio')\n",
    "    plt.xlabel('Principal components')\n",
    "    plt.legend(loc='best')\n",
    "    plt.tight_layout()\n",
    "    plt.savefig(plotdir+\"PCA_Explained_Variance_Component_Wise.png\")"
   ]
  },
  {
   "cell_type": "code",
   "execution_count": 46,
   "metadata": {
    "collapsed": true
   },
   "outputs": [],
   "source": [
    "# Projection Matrix\n",
    "#It’s about time to get to the really interesting part: \n",
    "#The construction of the projection matrix that will be used to transform the Iris data \n",
    "#onto the new feature subspace. Although, the name “projection matrix” has a nice ring to it, \n",
    "#it is basically just a matrix of our concatenated top k eigenvectors.\n",
    "\n",
    "#Here, we are reducing the 4-dimensional feature space to a 2-dimensional feature subspace, \n",
    "#by choosing the “top 2” eigenvectors with the highest eigenvalues to construct our d×kd×k-dimensional \n",
    "#eigenvector matrix WW.\n",
    "\n",
    "\n",
    "## using 9 eigen vectors \n",
    "matrix_w = np.hstack((eig_pairs[0][1].reshape(17,1),\n",
    "                      eig_pairs[1][1].reshape(17,1),\n",
    "                      eig_pairs[2][1].reshape(17,1),\n",
    "                      eig_pairs[3][1].reshape(17,1),\n",
    "                      eig_pairs[4][1].reshape(17,1),\n",
    "                      eig_pairs[5][1].reshape(17,1),\n",
    "                      eig_pairs[6][1].reshape(17,1),\n",
    "                      eig_pairs[7][1].reshape(17,1),\n",
    "                      eig_pairs[8][1].reshape(17,1),\n",
    "                      eig_pairs[9][1].reshape(17,1),\n",
    "                     ),\n",
    "                    )\n",
    "\n",
    "#print('Matrix W:\\n', matrix_w)"
   ]
  },
  {
   "cell_type": "code",
   "execution_count": 5,
   "metadata": {
    "collapsed": false
   },
   "outputs": [
    {
     "data": {
      "image/png": "[encoded data removed]",
      "text/plain": [
       "<matplotlib.figure.Figure at 0x114006ba8>"
      ]
     },
     "metadata": {},
     "output_type": "display_data"
    }
   ],
   "source": [
    "#Projection Onto the New Feature Space\n",
    "#In this last step we will use the 4×24×2-dimensional projection matrix WW to transform our \n",
    "#samples onto the new subspace via the equation\n",
    "#Y=X×WY=X×W, where YY is a 150×2150×2 matrix of our transformed samples.\n",
    "\n",
    "Y = X_std.dot(matrix_w)\n",
    "with plt.style.context('seaborn-whitegrid'):\n",
    "    #plt.figure(figsize=(6, 4))\n",
    "    for lab, col in zip((1, 0),\n",
    "                        ('Green', 'Red')):\n",
    "        plt.scatter(Y[y==lab, 0],\n",
    "                    Y[y==lab, 1],\n",
    "                    label=lab,\n",
    "                    c=col)\n",
    "    plt.xlabel('Principal Component 1')\n",
    "    plt.ylabel('Principal Component 2')\n",
    "    plt.legend(loc='upper right')\n",
    "    plt.tight_layout()\n",
    "    plt.show()\n",
    "    #plt.savefig(plotdir+\"PCA_Component_Analysis.png\")"
   ]
  },
  {
   "cell_type": "code",
   "execution_count": 47,
   "metadata": {
    "collapsed": false
   },
   "outputs": [
    {
     "name": "stdout",
     "output_type": "stream",
     "text": [
      "(681, 10)\n"
     ]
    }
   ],
   "source": [
    "#print(eig_pairs[10][1])\n",
    "Y = X_std.dot(matrix_w)\n",
    "print(Y.shape)"
   ]
  },
  {
   "cell_type": "code",
   "execution_count": 48,
   "metadata": {
    "collapsed": true
   },
   "outputs": [],
   "source": [
    "# Applying PCA Decomposition to the Final Modelling DataSet\n",
    "from sklearn import decomposition\n",
    "odir = \"/Users/HimanshuBharara/Documents/CU-Sem2/IEORE4571/Projects/PCA/\"\n",
    "pca = decomposition.PCA()\n",
    "pca.n_components = 10\n",
    "train_reduced = pca.fit_transform(df_train)\n",
    "test_reduced = pca.transform(df_test)\n",
    "#pd.DataFrame(train_reduced).to_csv(\"/Users/HimanshuBharara/Documents/CU-Sem2/IEORE4571/Projects/PCA/train_reduced.csv\")\n",
    "#pd.DataFrame(test_reduced).to_csv(\"/Users/HimanshuBharara/Documents/CU-Sem2/IEORE4571/Projects/PCA/test_reduced.csv\")"
   ]
  },
  {
   "cell_type": "code",
   "execution_count": 49,
   "metadata": {
    "collapsed": false
   },
   "outputs": [
    {
     "name": "stdout",
     "output_type": "stream",
     "text": [
      "0.815789473684\n",
      "[535 142]\n",
      "[[  4.93128081e+01   3.39123203e+01   9.75425537e+00 ...,   7.69650433e-02\n",
      "   -2.59064293e-01   8.07381157e-02]\n",
      " [  1.14250457e+01   6.27999258e+00  -2.97908626e+00 ...,  -1.01123450e-01\n",
      "   -3.68559268e-01   6.64134204e-02]\n",
      " [ -4.18501190e+01   1.91836663e+01  -3.30991309e+00 ...,   1.27294802e-01\n",
      "    2.05154350e-01   1.31531970e-01]\n",
      " ..., \n",
      " [  1.52376040e+01   2.42296925e+01  -4.75105810e+00 ...,  -3.19765664e-02\n",
      "    3.22854277e-01   2.02187231e-01]\n",
      " [  2.61550520e+01   3.18453652e+00  -2.35491810e+00 ...,  -9.21130632e-02\n",
      "   -1.57002295e-01   1.10419609e-01]\n",
      " [  1.12016400e+01  -1.64567402e+01   6.12753426e-01 ...,  -6.23360945e-02\n",
      "    2.32716045e-02   1.76406678e-02]]\n",
      "[-0.75144161]\n"
     ]
    }
   ],
   "source": [
    "# Training the model based on the components selected from PCA\n",
    "y = df_train['grades']\n",
    "df_train.pop('grades')\n",
    "from sklearn import svm\n",
    "clf = svm.SVC()\n",
    "clf.fit(train_reduced,y)\n",
    "\n",
    "# Testing the trained model based on the components selected from PCA\n",
    "z = df_test['grades']\n",
    "df_test.pop('grades')\n",
    "from sklearn.metrics import accuracy_score\n",
    "print(accuracy_score(clf.predict(test_reduced),z))\n",
    "print(clf.n_support_)\n",
    "print(clf.support_vectors_)\n",
    "print(clf.intercept_)"
   ]
  },
  {
   "cell_type": "code",
   "execution_count": null,
   "metadata": {
    "collapsed": true
   },
   "outputs": [],
   "source": []
  }
 ],
 "metadata": {
  "kernelspec": {
   "display_name": "Python 3",
   "language": "python",
   "name": "python3"
  },
  "language_info": {
   "codemirror_mode": {
    "name": "ipython",
    "version": 3
   },
   "file_extension": ".py",
   "mimetype": "text/x-python",
   "name": "python",
   "nbconvert_exporter": "python",
   "pygments_lexer": "ipython3",
   "version": "3.5.1"
  }
 },
 "nbformat": 4,
 "nbformat_minor": 0
}
