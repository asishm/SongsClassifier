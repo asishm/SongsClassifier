{
 "cells": [
  {
   "cell_type": "code",
   "execution_count": null,
   "metadata": {
    "collapsed": false
   },
   "outputs": [],
   "source": [
    "import pandas as pd\n",
    "from PyLyrics import *\n",
    "\n",
    "for j in range(0,2):\n",
    "    year = ['2013','2014','2015']\n",
    "    #year = ['2006','2007','2008','2009','2010','2011','2012','2013','2014','2015']\n",
    "    dHome = \"/Users/HimanshuBharara/Documents/CU-Sem2/IEORE4571/Projects/Lyrics/\"+year[j]+\"/\"\n",
    "    print(dHome)\n",
    "    dataH = pd.read_csv('/Users/HimanshuBharara/Documents/CU-Sem2/IEORE4571/Projects/Datasets/songs'+year[j]+\".csv\")\n",
    "\n",
    "    for i in range(0,100):\n",
    "    #print(dataH['artists'].iloc[i],dataH['songs'].iloc[i])\n",
    "    #print(PyLyrics.getLyrics(data_frame['artists'].iloc[i],data_frame['songs'].iloc[i]))    \n",
    "        try:\n",
    "        #lyrics_array.append(str(PyLyrics.getLyrics(dataH['artists'].iloc[i],dataH['songs'].iloc[i])))\n",
    "            name=dHome+str(i)+\".\"+\"txt\"\n",
    "            file=open(name,'a')\n",
    "            file.write(str(PyLyrics.getLyrics(dataH['artists'].iloc[i],dataH['songs'].iloc[i])))\n",
    "            file.close()\n",
    "        except ValueError:\n",
    "            print(i)\n",
    "            print(dataH['songs'].iloc[i])\n",
    "            print(dataH['artists'].iloc[i])"
   ]
  },
  {
   "cell_type": "code",
   "execution_count": null,
   "metadata": {
    "collapsed": false
   },
   "outputs": [],
   "source": [
    "dataH = pd.read_csv('/Users/HimanshuBharara/Documents/CU-Sem2/IEORE4571/Projects/Datasets/songs2006.csv')\n",
    "#print(dataH['artists'].iloc[96])\n",
    "#print(dataH['songs'].iloc[96])\n",
    "print(PyLyrics.getLyrics(dataH['artists'].iloc[8],dataH['songs'].iloc[8]))"
   ]
  },
  {
   "cell_type": "code",
   "execution_count": 2,
   "metadata": {
    "collapsed": false
   },
   "outputs": [
    {
     "name": "stderr",
     "output_type": "stream",
     "text": [
      "//anaconda/lib/python3.5/site-packages/bs4/__init__.py:166: UserWarning: No parser was explicitly specified, so I'm using the best available HTML parser for this system (\"lxml\"). This usually isn't a problem, but if you run this code on another system, or in a different virtual environment, it may use a different parser and behave differently.\n",
      "\n",
      "To get rid of this warning, change this:\n",
      "\n",
      " BeautifulSoup([your markup])\n",
      "\n",
      "to this:\n",
      "\n",
      " BeautifulSoup([your markup], \"lxml\")\n",
      "\n",
      "  markup_type=markup_type))\n"
     ]
    },
    {
     "ename": "ValueError",
     "evalue": "Song or Singer does not exist or the API does not have Lyrics",
     "output_type": "error",
     "traceback": [
      "\u001b[0;31m---------------------------------------------------------------------------\u001b[0m",
      "\u001b[0;31mValueError\u001b[0m                                Traceback (most recent call last)",
      "\u001b[0;32m<ipython-input-2-ea160522d50b>\u001b[0m in \u001b[0;36m<module>\u001b[0;34m()\u001b[0m\n\u001b[1;32m      1\u001b[0m \u001b[0;32mfrom\u001b[0m \u001b[0mPyLyrics\u001b[0m \u001b[0;32mimport\u001b[0m \u001b[0;34m*\u001b[0m\u001b[0;34m\u001b[0m\u001b[0m\n\u001b[0;32m----> 2\u001b[0;31m \u001b[0mprint\u001b[0m\u001b[0;34m(\u001b[0m\u001b[0mPyLyrics\u001b[0m\u001b[0;34m.\u001b[0m\u001b[0mgetLyrics\u001b[0m\u001b[0;34m(\u001b[0m\u001b[0;34m'My hips dont lie'\u001b[0m\u001b[0;34m,\u001b[0m\u001b[0;34m'Shakira'\u001b[0m\u001b[0;34m)\u001b[0m\u001b[0;34m)\u001b[0m\u001b[0;34m\u001b[0m\u001b[0m\n\u001b[0m",
      "\u001b[0;32m//anaconda/lib/python3.5/site-packages/PyLyrics/functions.py\u001b[0m in \u001b[0;36mgetLyrics\u001b[0;34m(singer, song)\u001b[0m\n\u001b[1;32m     80\u001b[0m                 \u001b[0mlyrics\u001b[0m \u001b[0;34m=\u001b[0m \u001b[0ms\u001b[0m\u001b[0;34m.\u001b[0m\u001b[0mfind\u001b[0m\u001b[0;34m(\u001b[0m\u001b[0;34m\"div\"\u001b[0m\u001b[0;34m,\u001b[0m\u001b[0;34m{\u001b[0m\u001b[0;34m'class'\u001b[0m\u001b[0;34m:\u001b[0m\u001b[0;34m'lyricbox'\u001b[0m\u001b[0;34m}\u001b[0m\u001b[0;34m)\u001b[0m\u001b[0;34m\u001b[0m\u001b[0m\n\u001b[1;32m     81\u001b[0m                 \u001b[0;32mif\u001b[0m \u001b[0mlyrics\u001b[0m \u001b[0;32mis\u001b[0m \u001b[0;32mNone\u001b[0m\u001b[0;34m:\u001b[0m\u001b[0;34m\u001b[0m\u001b[0m\n\u001b[0;32m---> 82\u001b[0;31m                         \u001b[0;32mraise\u001b[0m \u001b[0mValueError\u001b[0m\u001b[0;34m(\u001b[0m\u001b[0;34m\"Song or Singer does not exist or the API does not have Lyrics\"\u001b[0m\u001b[0;34m)\u001b[0m\u001b[0;34m\u001b[0m\u001b[0m\n\u001b[0m\u001b[1;32m     83\u001b[0m                         \u001b[0;32mreturn\u001b[0m \u001b[0;32mNone\u001b[0m\u001b[0;34m\u001b[0m\u001b[0m\n\u001b[1;32m     84\u001b[0m                 \u001b[0;31m#Remove Scripts\u001b[0m\u001b[0;34m\u001b[0m\u001b[0;34m\u001b[0m\u001b[0m\n",
      "\u001b[0;31mValueError\u001b[0m: Song or Singer does not exist or the API does not have Lyrics"
     ]
    }
   ],
   "source": [
    "from PyLyrics import *\n",
    "print(PyLyrics.getLyrics('My hips dont lie','Shakira'))"
   ]
  },
  {
   "cell_type": "code",
   "execution_count": null,
   "metadata": {
    "collapsed": false
   },
   "outputs": [],
   "source": [
    "name = \"1\" + \"2\"\n",
    "print(name)"
   ]
  },
  {
   "cell_type": "code",
   "execution_count": null,
   "metadata": {
    "collapsed": false
   },
   "outputs": [],
   "source": [
    "import pandas as pd\n",
    "from PyLyrics import *\n",
    "\n",
    "for j in range(0,2):\n",
    "    year = ['2013','2014','2015']\n",
    "    #year = ['2006','2007','2008','2009','2010','2011','2012','2013','2014','2015']\n",
    "    dHome = \"/Users/HimanshuBharara/Documents/CU-Sem2/IEORE4571/Projects/Lyrics/\"+year[j]+\"/\"\n",
    "    print(dHome)\n",
    "    dataH = pd.read_csv('/Users/HimanshuBharara/Documents/CU-Sem2/IEORE4571/Projects/Datasets/songs'+year[j]+\".csv\")\n",
    "\n",
    "    for i in range(0,100):\n",
    "    #print(dataH['artists'].iloc[i],dataH['songs'].iloc[i])\n",
    "    #print(PyLyrics.getLyrics(data_frame['artists'].iloc[i],data_frame['songs'].iloc[i]))    \n",
    "        try:\n",
    "        #lyrics_array.append(str(PyLyrics.getLyrics(dataH['artists'].iloc[i],dataH['songs'].iloc[i])))\n",
    "            name=dHome+str(i)+\".\"+\"txt\"\n",
    "            file=open(name,'a')\n",
    "            file.write(str(PyLyrics.getLyrics(dataH['artists'].iloc[i],dataH['songs'].iloc[i])))\n",
    "            file.close()\n",
    "        except ValueError:\n",
    "            print(i)\n",
    "            print(dataH['songs'].iloc[i])\n",
    "            print(dataH['artists'].iloc[i])"
   ]
  },
  {
   "cell_type": "code",
   "execution_count": null,
   "metadata": {
    "collapsed": false
   },
   "outputs": [],
   "source": [
    "import pandas as pd\n",
    "from PyLyrics import *\n",
    "\n",
    "for j in range(0,1):\n",
    "    year = ['2015']\n",
    "    #year = ['2006','2007','2008','2009','2010','2011','2012','2013','2014','2015']\n",
    "    dHome = \"/Users/HimanshuBharara/Documents/CU-Sem2/IEORE4571/Projects/Lyrics/\"+year[j]+\"/\"\n",
    "    print(dHome)\n",
    "    dataH = pd.read_csv('/Users/HimanshuBharara/Documents/CU-Sem2/IEORE4571/Projects/Datasets/songs'+year[j]+\".csv\")\n",
    "\n",
    "    for i in range(0,100):\n",
    "    #print(dataH['artists'].iloc[i],dataH['songs'].iloc[i])\n",
    "    #print(PyLyrics.getLyrics(data_frame['artists'].iloc[i],data_frame['songs'].iloc[i]))    \n",
    "        try:\n",
    "        #lyrics_array.append(str(PyLyrics.getLyrics(dataH['artists'].iloc[i],dataH['songs'].iloc[i])))\n",
    "            name=dHome+str(i)+\".\"+\"txt\"\n",
    "            file=open(name,'a')\n",
    "            file.write(str(PyLyrics.getLyrics(dataH['artists'].iloc[i],dataH['songs'].iloc[i])))\n",
    "            file.close()\n",
    "        except ValueError:\n",
    "            print(i)\n",
    "            print(dataH['songs'].iloc[i])\n",
    "            print(dataH['artists'].iloc[i])"
   ]
  },
  {
   "cell_type": "code",
   "execution_count": 5,
   "metadata": {
    "collapsed": false
   },
   "outputs": [
    {
     "ename": "SyntaxError",
     "evalue": "invalid syntax (<ipython-input-5-aef4d29f6576>, line 1)",
     "output_type": "error",
     "traceback": [
      "\u001b[0;36m  File \u001b[0;32m\"<ipython-input-5-aef4d29f6576>\"\u001b[0;36m, line \u001b[0;32m1\u001b[0m\n\u001b[0;31m    def get_chartlyrics_lyrics(artist,song)\u001b[0m\n\u001b[0m                                           ^\u001b[0m\n\u001b[0;31mSyntaxError\u001b[0m\u001b[0;31m:\u001b[0m invalid syntax\n"
     ]
    }
   ],
   "source": []
  },
  {
   "cell_type": "code",
   "execution_count": null,
   "metadata": {
    "collapsed": true
   },
   "outputs": [],
   "source": []
  }
 ],
 "metadata": {
  "kernelspec": {
   "display_name": "Python 3",
   "language": "python",
   "name": "python3"
  },
  "language_info": {
   "codemirror_mode": {
    "name": "ipython",
    "version": 3
   },
   "file_extension": ".py",
   "mimetype": "text/x-python",
   "name": "python",
   "nbconvert_exporter": "python",
   "pygments_lexer": "ipython3",
   "version": "3.5.1"
  }
 },
 "nbformat": 4,
 "nbformat_minor": 0
}
